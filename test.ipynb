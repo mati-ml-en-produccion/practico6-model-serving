{
 "cells": [
  {
   "cell_type": "code",
   "execution_count": 73,
   "metadata": {},
   "outputs": [
    {
     "name": "stdout",
     "output_type": "stream",
     "text": [
      "{'status': 'OK'}\n"
     ]
    }
   ],
   "source": [
    "import requests\n",
    "\n",
    "response = requests.get(\"http://0.0.0.0:8080/health\")\n",
    "\n",
    "if response.status_code == 200:\n",
    "    data = response.json()\n",
    "    print(data)\n",
    "else:\n",
    "    print(\"Error en la solicitud. Código de estado:\", response.status_code)\n"
   ]
  },
  {
   "cell_type": "code",
   "execution_count": 74,
   "metadata": {},
   "outputs": [
    {
     "name": "stdout",
     "output_type": "stream",
     "text": [
      "{'predicted_class': 0}\n"
     ]
    }
   ],
   "source": [
    "import requests\n",
    "from PIL import Image\n",
    "import numpy as np\n",
    "import io\n",
    "\n",
    "# Abre tu imagen\n",
    "image = Image.open(\"/Users/matiassorozabal/Documents/ORT-ml-en-produccion/practico_6/img/plane.jpeg\")\n",
    "\n",
    "# Redimensionamos la imagen a 32x32\n",
    "image = image.resize((32, 32))\n",
    "\n",
    "# Convertimos la imagen a un array de numpy y expandimos las dimensiones\n",
    "image_np = np.expand_dims(np.array(image), axis=0)\n",
    "\n",
    "# Convertimos la imagen de numpy a bytes\n",
    "image_bytes = io.BytesIO()\n",
    "image.save(image_bytes, format='JPEG')\n",
    "\n",
    "# Configura el URL de tu API. Reemplaza <dns-name-label> y <region> con los tuyos.\n",
    "url = \"http://0.0.0.0:8080/predict\"\n",
    "\n",
    "# Configura los datos de la imagen para la solicitud\n",
    "img_data = {\"image_file\": image_bytes.getvalue()}\n",
    "\n",
    "# Haz una solicitud POST a la API con la imagen\n",
    "response = requests.post(url, files=img_data)\n",
    "\n",
    "# Imprime la respuesta\n",
    "print(response.json())"
   ]
  },
  {
   "cell_type": "code",
   "execution_count": 80,
   "metadata": {},
   "outputs": [
    {
     "name": "stdout",
     "output_type": "stream",
     "text": [
      "{'status': 'OK'}\n"
     ]
    }
   ],
   "source": [
    "# Azure GET\n",
    "\n",
    "import requests\n",
    "\n",
    "response = requests.get(\"http://52.188.171.27:8080/health\")\n",
    "\n",
    "if response.status_code == 200:\n",
    "    data = response.json()\n",
    "    print(data)\n",
    "else:\n",
    "    print(\"Error en la solicitud. Código de estado:\", response.status_code)"
   ]
  },
  {
   "cell_type": "code",
   "execution_count": 81,
   "metadata": {},
   "outputs": [
    {
     "name": "stdout",
     "output_type": "stream",
     "text": [
      "{'predicted_class': 0}\n"
     ]
    }
   ],
   "source": [
    "## Ahora le pegamos a Azure\n",
    "\n",
    "import requests\n",
    "from PIL import Image\n",
    "import numpy as np\n",
    "import io\n",
    "\n",
    "# Abre tu imagen\n",
    "image = Image.open(\"/Users/matiassorozabal/Documents/ORT-ml-en-produccion/practico_6/img/plane.jpeg\")\n",
    "\n",
    "# Redimensionamos la imagen a 32x32\n",
    "image = image.resize((32, 32))\n",
    "\n",
    "# Convertimos la imagen a un array de numpy y expandimos las dimensiones\n",
    "image_np = np.expand_dims(np.array(image), axis=0)\n",
    "\n",
    "# Convertimos la imagen de numpy a bytes\n",
    "image_bytes = io.BytesIO()\n",
    "image.save(image_bytes, format='JPEG')\n",
    "\n",
    "# Configura el URL de tu API. Reemplaza <dns-name-label> y <region> con los tuyos.\n",
    "url = \"http://52.188.171.27:8080/predict\"\n",
    "\n",
    "# Configura los datos de la imagen para la solicitud\n",
    "img_data = {\"image_file\": image_bytes.getvalue()}\n",
    "\n",
    "# Haz una solicitud POST a la API con la imagen\n",
    "response = requests.post(url, files=img_data)\n",
    "\n",
    "# Imprime la respuesta\n",
    "print(response.json())"
   ]
  },
  {
   "cell_type": "code",
   "execution_count": null,
   "metadata": {},
   "outputs": [],
   "source": []
  }
 ],
 "metadata": {
  "kernelspec": {
   "display_name": "Python 3",
   "language": "python",
   "name": "python3"
  },
  "language_info": {
   "codemirror_mode": {
    "name": "ipython",
    "version": 3
   },
   "file_extension": ".py",
   "mimetype": "text/x-python",
   "name": "python",
   "nbconvert_exporter": "python",
   "pygments_lexer": "ipython3",
   "version": "3.10.10"
  },
  "orig_nbformat": 4
 },
 "nbformat": 4,
 "nbformat_minor": 2
}
